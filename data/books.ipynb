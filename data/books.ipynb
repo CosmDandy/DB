{
 "cells": [
  {
   "cell_type": "code",
   "execution_count": 8,
   "metadata": {
    "collapsed": true
   },
   "outputs": [],
   "source": [
    "import pandas as pd\n",
    "import random\n",
    "from pathlib import Path\n",
    "import numpy as np"
   ]
  },
  {
   "cell_type": "code",
   "execution_count": 9,
   "outputs": [],
   "source": [
    "directory = Path(\"archive/\")\n",
    "books = pd.concat([pd.read_csv(f).drop(\n",
    "    ['RatingDist1', 'RatingDist4', 'RatingDistTotal', 'RatingDist2', 'RatingDist5', 'RatingDist3', 'Id'], axis=1) for f in directory.glob(\"*.csv\")], ignore_index=True)\n",
    "\n",
    "# books = books.drop(['pagesNumber', 'Count of text reviews'], axis=1)\n",
    "books.Language = books.Language.fillna('eng')\n",
    "books.pagesNumber = books.pagesNumber.fillna(random.randint(250, 1500))\n",
    "books.pagesNumber = books.pagesNumber.astype('int')\n",
    "books.Publisher = books.Publisher.fillna('Alpina')\n",
    "books['Genre'] = np.random.choice(\n",
    "    ['Action and Adventure', 'Classics', 'Comic Book', 'Detective', 'Mystery', 'Fantasy', 'Historical Fiction',\n",
    "     'Literary Fiction', 'Horror', 'Romance', 'Science Fiction', 'Short Stories', 'Suspense', 'Thrillers',\n",
    "     'Biographies', 'Autobiographies', 'Cookbooks', 'Essays', 'History', 'Memoir', 'Poetry', 'Self-Help', 'True Crime'],\n",
    "    len(books))\n",
    "\n",
    "books.loc[books['PublishYear'] > 2023, 'PublishYear'] = random.randint(1900, 2023)\n",
    "books.loc[books['PublishMonth'] > 12, 'PublishMonth'] = random.randint(1, 12)\n",
    "books.loc[books['PublishDay'] > 31, 'PublishDay'] = random.randint(1, 31)\n",
    "books.loc[(books['Language'] == \"en-US\") | (books['Language'] == \"en-GB\") | (books['Language'] == \"en-CA\") | (books['Language'] == \"--\"), 'Language'] = \"eng\""
   ],
   "metadata": {
    "collapsed": false
   }
  },
  {
   "cell_type": "code",
   "execution_count": 10,
   "outputs": [
    {
     "name": "stdout",
     "output_type": "stream",
     "text": [
      "['Name' 'pagesNumber' 'PublishMonth' 'PublishDay' 'Publisher'\n",
      " 'CountsOfReview' 'PublishYear' 'Language' 'Authors' 'Rating' 'ISBN'\n",
      " 'Genre']\n"
     ]
    }
   ],
   "source": [
    "print(books.columns.values)"
   ],
   "metadata": {
    "collapsed": false
   }
  },
  {
   "cell_type": "code",
   "execution_count": 11,
   "outputs": [
    {
     "data": {
      "text/plain": "Name                0\npagesNumber         0\nPublishMonth        0\nPublishDay          0\nPublisher           0\nCountsOfReview      0\nPublishYear         0\nLanguage            0\nAuthors             0\nRating              0\nISBN              546\nGenre               0\ndtype: int64"
     },
     "execution_count": 11,
     "metadata": {},
     "output_type": "execute_result"
    }
   ],
   "source": [
    "books.isnull().sum()"
   ],
   "metadata": {
    "collapsed": false
   }
  },
  {
   "cell_type": "code",
   "execution_count": 12,
   "outputs": [
    {
     "data": {
      "text/plain": "Name              57510\npagesNumber        1340\nPublishMonth         12\nPublishDay           12\nPublisher          7521\nCountsOfReview     2163\nPublishYear         105\nLanguage             33\nAuthors           28633\nRating              267\nISBN              57552\nGenre                23\ndtype: int64"
     },
     "execution_count": 12,
     "metadata": {},
     "output_type": "execute_result"
    }
   ],
   "source": [
    "books.nunique()"
   ],
   "metadata": {
    "collapsed": false
   }
  },
  {
   "cell_type": "code",
   "execution_count": 13,
   "outputs": [
    {
     "name": "stdout",
     "output_type": "stream",
     "text": [
      "['J.K. Rowling' 'W. Frederick Zimmerman' 'Douglas Adams' ...\n",
      " 'Jonathan Weiner' 'Archibald Hamilton Rutledge' \"Daniel O'Connor\"]\n",
      "----------------------------------------\n",
      "['Scholastic Inc.' 'Scholastic Inc' 'Scholastic' ... 'Twelve'\n",
      " 'Fantastic Audio' 'Gray & Company Publishers']\n",
      "----------------------------------------\n",
      "['eng' 'fre' 'spa' 'mul' 'grc' 'enm' 'ger' 'jpn' 'ara' 'nl' 'zho' 'lat'\n",
      " 'por' 'srp' 'ita' 'rus' 'msa' 'glg' 'wel' 'swe' 'nor' 'kor' 'tur' 'gla'\n",
      " 'lit' 'per' 'pol' 'gle' 'cat' 'afr' 'ind' 'frs' 'sco']\n",
      "----------------------------------------\n",
      "['Mystery' 'Suspense' 'Poetry' 'Romance' 'Classics' 'Historical Fiction'\n",
      " 'Autobiographies' 'Horror' 'Thrillers' 'Self-Help' 'Biographies'\n",
      " 'True Crime' 'Memoir' 'History' 'Science Fiction' 'Short Stories'\n",
      " 'Detective' 'Action and Adventure' 'Comic Book' 'Essays' 'Fantasy'\n",
      " 'Cookbooks' 'Literary Fiction']\n"
     ]
    }
   ],
   "source": [
    "print(books.Authors.unique())\n",
    "print(\"-\"*40)\n",
    "print(books.Publisher.unique())\n",
    "print(\"-\"*40)\n",
    "print(books.Language.unique())\n",
    "print(\"-\"*40)\n",
    "print(books.Genre.unique())"
   ],
   "metadata": {
    "collapsed": false
   }
  },
  {
   "cell_type": "code",
   "execution_count": 7,
   "outputs": [
    {
     "ename": "KeyboardInterrupt",
     "evalue": "",
     "output_type": "error",
     "traceback": [
      "\u001B[0;31m---------------------------------------------------------------------------\u001B[0m",
      "\u001B[0;31mKeyboardInterrupt\u001B[0m                         Traceback (most recent call last)",
      "Cell \u001B[0;32mIn[7], line 9\u001B[0m\n\u001B[1;32m      7\u001B[0m \u001B[38;5;28;01mfor\u001B[39;00m col \u001B[38;5;129;01min\u001B[39;00m columns:\n\u001B[1;32m      8\u001B[0m     \u001B[38;5;28;01mfor\u001B[39;00m index, string \u001B[38;5;129;01min\u001B[39;00m \u001B[38;5;28menumerate\u001B[39m(col[\u001B[38;5;241m0\u001B[39m]\u001B[38;5;241m.\u001B[39miloc[:, \u001B[38;5;241m0\u001B[39m]):\n\u001B[0;32m----> 9\u001B[0m         books\u001B[38;5;241m.\u001B[39mloc[\u001B[43mbooks\u001B[49m\u001B[43m[\u001B[49m\u001B[43mcol\u001B[49m\u001B[43m[\u001B[49m\u001B[38;5;241;43m1\u001B[39;49m\u001B[43m]\u001B[49m\u001B[43m]\u001B[49m\u001B[43m \u001B[49m\u001B[38;5;241;43m==\u001B[39;49m\u001B[43m \u001B[49m\u001B[43mstring\u001B[49m, col[\u001B[38;5;241m1\u001B[39m]] \u001B[38;5;241m=\u001B[39m index\n",
      "File \u001B[0;32m~/GitHub/DB/web/venv/lib/python3.11/site-packages/pandas/core/ops/common.py:72\u001B[0m, in \u001B[0;36m_unpack_zerodim_and_defer.<locals>.new_method\u001B[0;34m(self, other)\u001B[0m\n\u001B[1;32m     68\u001B[0m             \u001B[38;5;28;01mreturn\u001B[39;00m \u001B[38;5;28mNotImplemented\u001B[39m\n\u001B[1;32m     70\u001B[0m other \u001B[38;5;241m=\u001B[39m item_from_zerodim(other)\n\u001B[0;32m---> 72\u001B[0m \u001B[38;5;28;01mreturn\u001B[39;00m \u001B[43mmethod\u001B[49m\u001B[43m(\u001B[49m\u001B[38;5;28;43mself\u001B[39;49m\u001B[43m,\u001B[49m\u001B[43m \u001B[49m\u001B[43mother\u001B[49m\u001B[43m)\u001B[49m\n",
      "File \u001B[0;32m~/GitHub/DB/web/venv/lib/python3.11/site-packages/pandas/core/arraylike.py:42\u001B[0m, in \u001B[0;36mOpsMixin.__eq__\u001B[0;34m(self, other)\u001B[0m\n\u001B[1;32m     40\u001B[0m \u001B[38;5;129m@unpack_zerodim_and_defer\u001B[39m(\u001B[38;5;124m\"\u001B[39m\u001B[38;5;124m__eq__\u001B[39m\u001B[38;5;124m\"\u001B[39m)\n\u001B[1;32m     41\u001B[0m \u001B[38;5;28;01mdef\u001B[39;00m \u001B[38;5;21m__eq__\u001B[39m(\u001B[38;5;28mself\u001B[39m, other):\n\u001B[0;32m---> 42\u001B[0m     \u001B[38;5;28;01mreturn\u001B[39;00m \u001B[38;5;28;43mself\u001B[39;49m\u001B[38;5;241;43m.\u001B[39;49m\u001B[43m_cmp_method\u001B[49m\u001B[43m(\u001B[49m\u001B[43mother\u001B[49m\u001B[43m,\u001B[49m\u001B[43m \u001B[49m\u001B[43moperator\u001B[49m\u001B[38;5;241;43m.\u001B[39;49m\u001B[43meq\u001B[49m\u001B[43m)\u001B[49m\n",
      "File \u001B[0;32m~/GitHub/DB/web/venv/lib/python3.11/site-packages/pandas/core/series.py:6243\u001B[0m, in \u001B[0;36mSeries._cmp_method\u001B[0;34m(self, other, op)\u001B[0m\n\u001B[1;32m   6240\u001B[0m rvalues \u001B[38;5;241m=\u001B[39m extract_array(other, extract_numpy\u001B[38;5;241m=\u001B[39m\u001B[38;5;28;01mTrue\u001B[39;00m, extract_range\u001B[38;5;241m=\u001B[39m\u001B[38;5;28;01mTrue\u001B[39;00m)\n\u001B[1;32m   6242\u001B[0m \u001B[38;5;28;01mwith\u001B[39;00m np\u001B[38;5;241m.\u001B[39merrstate(\u001B[38;5;28mall\u001B[39m\u001B[38;5;241m=\u001B[39m\u001B[38;5;124m\"\u001B[39m\u001B[38;5;124mignore\u001B[39m\u001B[38;5;124m\"\u001B[39m):\n\u001B[0;32m-> 6243\u001B[0m     res_values \u001B[38;5;241m=\u001B[39m \u001B[43mops\u001B[49m\u001B[38;5;241;43m.\u001B[39;49m\u001B[43mcomparison_op\u001B[49m\u001B[43m(\u001B[49m\u001B[43mlvalues\u001B[49m\u001B[43m,\u001B[49m\u001B[43m \u001B[49m\u001B[43mrvalues\u001B[49m\u001B[43m,\u001B[49m\u001B[43m \u001B[49m\u001B[43mop\u001B[49m\u001B[43m)\u001B[49m\n\u001B[1;32m   6245\u001B[0m \u001B[38;5;28;01mreturn\u001B[39;00m \u001B[38;5;28mself\u001B[39m\u001B[38;5;241m.\u001B[39m_construct_result(res_values, name\u001B[38;5;241m=\u001B[39mres_name)\n",
      "File \u001B[0;32m~/GitHub/DB/web/venv/lib/python3.11/site-packages/pandas/core/ops/array_ops.py:287\u001B[0m, in \u001B[0;36mcomparison_op\u001B[0;34m(left, right, op)\u001B[0m\n\u001B[1;32m    284\u001B[0m     \u001B[38;5;28;01mreturn\u001B[39;00m invalid_comparison(lvalues, rvalues, op)\n\u001B[1;32m    286\u001B[0m \u001B[38;5;28;01melif\u001B[39;00m is_object_dtype(lvalues\u001B[38;5;241m.\u001B[39mdtype) \u001B[38;5;129;01mor\u001B[39;00m \u001B[38;5;28misinstance\u001B[39m(rvalues, \u001B[38;5;28mstr\u001B[39m):\n\u001B[0;32m--> 287\u001B[0m     res_values \u001B[38;5;241m=\u001B[39m \u001B[43mcomp_method_OBJECT_ARRAY\u001B[49m\u001B[43m(\u001B[49m\u001B[43mop\u001B[49m\u001B[43m,\u001B[49m\u001B[43m \u001B[49m\u001B[43mlvalues\u001B[49m\u001B[43m,\u001B[49m\u001B[43m \u001B[49m\u001B[43mrvalues\u001B[49m\u001B[43m)\u001B[49m\n\u001B[1;32m    289\u001B[0m \u001B[38;5;28;01melse\u001B[39;00m:\n\u001B[1;32m    290\u001B[0m     res_values \u001B[38;5;241m=\u001B[39m _na_arithmetic_op(lvalues, rvalues, op, is_cmp\u001B[38;5;241m=\u001B[39m\u001B[38;5;28;01mTrue\u001B[39;00m)\n",
      "File \u001B[0;32m~/GitHub/DB/web/venv/lib/python3.11/site-packages/pandas/core/ops/array_ops.py:75\u001B[0m, in \u001B[0;36mcomp_method_OBJECT_ARRAY\u001B[0;34m(op, x, y)\u001B[0m\n\u001B[1;32m     73\u001B[0m     result \u001B[38;5;241m=\u001B[39m libops\u001B[38;5;241m.\u001B[39mvec_compare(x\u001B[38;5;241m.\u001B[39mravel(), y\u001B[38;5;241m.\u001B[39mravel(), op)\n\u001B[1;32m     74\u001B[0m \u001B[38;5;28;01melse\u001B[39;00m:\n\u001B[0;32m---> 75\u001B[0m     result \u001B[38;5;241m=\u001B[39m \u001B[43mlibops\u001B[49m\u001B[38;5;241;43m.\u001B[39;49m\u001B[43mscalar_compare\u001B[49m\u001B[43m(\u001B[49m\u001B[43mx\u001B[49m\u001B[38;5;241;43m.\u001B[39;49m\u001B[43mravel\u001B[49m\u001B[43m(\u001B[49m\u001B[43m)\u001B[49m\u001B[43m,\u001B[49m\u001B[43m \u001B[49m\u001B[43my\u001B[49m\u001B[43m,\u001B[49m\u001B[43m \u001B[49m\u001B[43mop\u001B[49m\u001B[43m)\u001B[49m\n\u001B[1;32m     76\u001B[0m \u001B[38;5;28;01mreturn\u001B[39;00m result\u001B[38;5;241m.\u001B[39mreshape(x\u001B[38;5;241m.\u001B[39mshape)\n",
      "\u001B[0;31mKeyboardInterrupt\u001B[0m: "
     ]
    }
   ],
   "source": [
    "Book_genre = pd.DataFrame(data=books.Genre.unique(), columns=['Genre'])\n",
    "Book_lang = pd.DataFrame(data=books.Language.unique(), columns=['Language'])\n",
    "Book_publisher = pd.DataFrame(data=books.Publisher.unique(), columns=['Publisher'])\n",
    "Book_author = pd.DataFrame(data=books.Authors.unique(), columns=['Authors'])\n",
    "\n",
    "columns = [[Book_genre, \"Genre\"], [Book_lang, \"Language\"], [Book_publisher, \"Publisher\"], [Book_author, \"Authors\"]]\n",
    "for col in columns:\n",
    "    for index, string in enumerate(col[0].iloc[:, 0]):\n",
    "        books.loc[books[col[1]] == string, col[1]] = index"
   ],
   "metadata": {
    "collapsed": false
   }
  },
  {
   "cell_type": "code",
   "execution_count": 14,
   "outputs": [
    {
     "data": {
      "text/plain": "                                                    Name  pagesNumber  \\\n0      Harry Potter and the Half-Blood Prince (Harry ...          652   \n1      Harry Potter and the Order of the Phoenix (Har...          870   \n2      Harry Potter and the Sorcerer's Stone (Harry P...          309   \n3      Harry Potter and the Chamber of Secrets (Harry...          352   \n4      Harry Potter and the Prisoner of Azkaban (Harr...          435   \n...                                                  ...          ...   \n58287  The Best American Science and Nature Writing 2000          265   \n58288  The Best American Science and Nature Writing 2002          336   \n58289  Hunting and Home in the Southern Heartland: Th...          263   \n58290             The Best American Science Writing 2004          288   \n58291                 The Best American Sex Writing 2004          336   \n\n       PublishMonth  PublishDay                           Publisher  \\\n0                10           9                     Scholastic Inc.   \n1                 1           9                     Scholastic Inc.   \n2                 1          11                      Scholastic Inc   \n3                 1          11                          Scholastic   \n4                 1           5                     Scholastic Inc.   \n...             ...         ...                                 ...   \n58287            10          10                       Mariner Books   \n58288            10          10                       Mariner Books   \n58289             1           4  University of South Carolina Press   \n58290            10           9                                Ecco   \n58291             6          12                       Running Press   \n\n       CountsOfReview  PublishYear Language                      Authors  \\\n0               28062         2006      eng                 J.K. Rowling   \n1               29770         2004      eng                 J.K. Rowling   \n2               75911         2003      eng                 J.K. Rowling   \n3                 244         2003      eng                 J.K. Rowling   \n4               37093         2004      eng                 J.K. Rowling   \n...               ...          ...      ...                          ...   \n58287               7         2000      eng                David Quammen   \n58288               7         2002      eng               Natalie Angier   \n58289               0         1992      eng  Archibald Hamilton Rutledge   \n58290               5         2004      eng                   Dava Sobel   \n58291               3         2004      eng              Daniel O'Connor   \n\n       Rating        ISBN            Genre  \n0        4.57         NaN          Mystery  \n1        4.50  0439358078         Suspense  \n2        4.47         NaN           Poetry  \n3        4.42  0439554896          Romance  \n4        4.57  043965548X         Suspense  \n...       ...         ...              ...  \n58287    3.99  0618082956  Autobiographies  \n58288    4.11  0618134786       Comic Book  \n58289    4.30  0872498220        Thrillers  \n58290    3.86  0060726407         Suspense  \n58291    3.09  1560255986          Fantasy  \n\n[58292 rows x 12 columns]",
      "text/html": "<div>\n<style scoped>\n    .dataframe tbody tr th:only-of-type {\n        vertical-align: middle;\n    }\n\n    .dataframe tbody tr th {\n        vertical-align: top;\n    }\n\n    .dataframe thead th {\n        text-align: right;\n    }\n</style>\n<table border=\"1\" class=\"dataframe\">\n  <thead>\n    <tr style=\"text-align: right;\">\n      <th></th>\n      <th>Name</th>\n      <th>pagesNumber</th>\n      <th>PublishMonth</th>\n      <th>PublishDay</th>\n      <th>Publisher</th>\n      <th>CountsOfReview</th>\n      <th>PublishYear</th>\n      <th>Language</th>\n      <th>Authors</th>\n      <th>Rating</th>\n      <th>ISBN</th>\n      <th>Genre</th>\n    </tr>\n  </thead>\n  <tbody>\n    <tr>\n      <th>0</th>\n      <td>Harry Potter and the Half-Blood Prince (Harry ...</td>\n      <td>652</td>\n      <td>10</td>\n      <td>9</td>\n      <td>Scholastic Inc.</td>\n      <td>28062</td>\n      <td>2006</td>\n      <td>eng</td>\n      <td>J.K. Rowling</td>\n      <td>4.57</td>\n      <td>NaN</td>\n      <td>Mystery</td>\n    </tr>\n    <tr>\n      <th>1</th>\n      <td>Harry Potter and the Order of the Phoenix (Har...</td>\n      <td>870</td>\n      <td>1</td>\n      <td>9</td>\n      <td>Scholastic Inc.</td>\n      <td>29770</td>\n      <td>2004</td>\n      <td>eng</td>\n      <td>J.K. Rowling</td>\n      <td>4.50</td>\n      <td>0439358078</td>\n      <td>Suspense</td>\n    </tr>\n    <tr>\n      <th>2</th>\n      <td>Harry Potter and the Sorcerer's Stone (Harry P...</td>\n      <td>309</td>\n      <td>1</td>\n      <td>11</td>\n      <td>Scholastic Inc</td>\n      <td>75911</td>\n      <td>2003</td>\n      <td>eng</td>\n      <td>J.K. Rowling</td>\n      <td>4.47</td>\n      <td>NaN</td>\n      <td>Poetry</td>\n    </tr>\n    <tr>\n      <th>3</th>\n      <td>Harry Potter and the Chamber of Secrets (Harry...</td>\n      <td>352</td>\n      <td>1</td>\n      <td>11</td>\n      <td>Scholastic</td>\n      <td>244</td>\n      <td>2003</td>\n      <td>eng</td>\n      <td>J.K. Rowling</td>\n      <td>4.42</td>\n      <td>0439554896</td>\n      <td>Romance</td>\n    </tr>\n    <tr>\n      <th>4</th>\n      <td>Harry Potter and the Prisoner of Azkaban (Harr...</td>\n      <td>435</td>\n      <td>1</td>\n      <td>5</td>\n      <td>Scholastic Inc.</td>\n      <td>37093</td>\n      <td>2004</td>\n      <td>eng</td>\n      <td>J.K. Rowling</td>\n      <td>4.57</td>\n      <td>043965548X</td>\n      <td>Suspense</td>\n    </tr>\n    <tr>\n      <th>...</th>\n      <td>...</td>\n      <td>...</td>\n      <td>...</td>\n      <td>...</td>\n      <td>...</td>\n      <td>...</td>\n      <td>...</td>\n      <td>...</td>\n      <td>...</td>\n      <td>...</td>\n      <td>...</td>\n      <td>...</td>\n    </tr>\n    <tr>\n      <th>58287</th>\n      <td>The Best American Science and Nature Writing 2000</td>\n      <td>265</td>\n      <td>10</td>\n      <td>10</td>\n      <td>Mariner Books</td>\n      <td>7</td>\n      <td>2000</td>\n      <td>eng</td>\n      <td>David Quammen</td>\n      <td>3.99</td>\n      <td>0618082956</td>\n      <td>Autobiographies</td>\n    </tr>\n    <tr>\n      <th>58288</th>\n      <td>The Best American Science and Nature Writing 2002</td>\n      <td>336</td>\n      <td>10</td>\n      <td>10</td>\n      <td>Mariner Books</td>\n      <td>7</td>\n      <td>2002</td>\n      <td>eng</td>\n      <td>Natalie Angier</td>\n      <td>4.11</td>\n      <td>0618134786</td>\n      <td>Comic Book</td>\n    </tr>\n    <tr>\n      <th>58289</th>\n      <td>Hunting and Home in the Southern Heartland: Th...</td>\n      <td>263</td>\n      <td>1</td>\n      <td>4</td>\n      <td>University of South Carolina Press</td>\n      <td>0</td>\n      <td>1992</td>\n      <td>eng</td>\n      <td>Archibald Hamilton Rutledge</td>\n      <td>4.30</td>\n      <td>0872498220</td>\n      <td>Thrillers</td>\n    </tr>\n    <tr>\n      <th>58290</th>\n      <td>The Best American Science Writing 2004</td>\n      <td>288</td>\n      <td>10</td>\n      <td>9</td>\n      <td>Ecco</td>\n      <td>5</td>\n      <td>2004</td>\n      <td>eng</td>\n      <td>Dava Sobel</td>\n      <td>3.86</td>\n      <td>0060726407</td>\n      <td>Suspense</td>\n    </tr>\n    <tr>\n      <th>58291</th>\n      <td>The Best American Sex Writing 2004</td>\n      <td>336</td>\n      <td>6</td>\n      <td>12</td>\n      <td>Running Press</td>\n      <td>3</td>\n      <td>2004</td>\n      <td>eng</td>\n      <td>Daniel O'Connor</td>\n      <td>3.09</td>\n      <td>1560255986</td>\n      <td>Fantasy</td>\n    </tr>\n  </tbody>\n</table>\n<p>58292 rows × 12 columns</p>\n</div>"
     },
     "execution_count": 14,
     "metadata": {},
     "output_type": "execute_result"
    }
   ],
   "source": [
    "books"
   ],
   "metadata": {
    "collapsed": false
   }
  },
  {
   "cell_type": "code",
   "execution_count": null,
   "outputs": [],
   "source": [
    "books.to_csv(\"archive/result.csv\", index=False)"
   ],
   "metadata": {
    "collapsed": false
   }
  }
 ],
 "metadata": {
  "kernelspec": {
   "display_name": "Python 3",
   "language": "python",
   "name": "python3"
  },
  "language_info": {
   "codemirror_mode": {
    "name": "ipython",
    "version": 2
   },
   "file_extension": ".py",
   "mimetype": "text/x-python",
   "name": "python",
   "nbconvert_exporter": "python",
   "pygments_lexer": "ipython2",
   "version": "2.7.6"
  }
 },
 "nbformat": 4,
 "nbformat_minor": 0
}
