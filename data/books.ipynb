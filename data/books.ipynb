{
 "cells": [
  {
   "cell_type": "code",
   "execution_count": 40,
   "metadata": {
    "collapsed": true
   },
   "outputs": [],
   "source": [
    "import pandas as pd\n",
    "import random\n",
    "from pathlib import Path\n",
    "import numpy as np"
   ]
  },
  {
   "cell_type": "code",
   "execution_count": 41,
   "outputs": [],
   "source": [
    "directory = Path(\"archive/\")\n",
    "books = pd.concat([pd.read_csv(f).drop(\n",
    "    ['RatingDist1', 'RatingDist4', 'RatingDistTotal', 'RatingDist2', 'RatingDist5', 'RatingDist3', 'Id'], axis=1) for f in directory.glob(\"*.csv\")], ignore_index=True)\n",
    "\n",
    "# books = books.drop(['pagesNumber', 'Count of text reviews'], axis=1)\n",
    "books.Language = books.Language.fillna('eng')\n",
    "books.pagesNumber = books.pagesNumber.fillna(random.randint(250, 1500))\n",
    "books.pagesNumber = books.pagesNumber.astype('int')\n",
    "books.Publisher = books.Publisher.fillna('Alpina')\n",
    "books['Genre'] = np.random.choice(\n",
    "    ['Action and Adventure', 'Classics', 'Comic Book', 'Detective', 'Mystery', 'Fantasy', 'Historical Fiction',\n",
    "     'Literary Fiction', 'Horror', 'Romance', 'Science Fiction', 'Short Stories', 'Suspense', 'Thrillers',\n",
    "     'Biographies', 'Autobiographies', 'Cookbooks', 'Essays', 'History', 'Memoir', 'Poetry', 'Self-Help', 'True Crime'],\n",
    "    len(books))\n",
    "\n",
    "books.loc[books['PublishYear'] > 2023, 'PublishYear'] = random.randint(1900, 2023)\n",
    "books.loc[books['PublishMonth'] > 12, 'PublishMonth'] = random.randint(1, 12)\n",
    "books.loc[books['PublishDay'] > 31, 'PublishDay'] = random.randint(1, 31)\n",
    "books.loc[(books['Language'] == \"en-US\") | (books['Language'] == \"en-GB\") | (books['Language'] == \"en-CA\") | (books['Language'] == \"--\"), 'Language'] = \"eng\""
   ],
   "metadata": {
    "collapsed": false
   }
  },
  {
   "cell_type": "code",
   "execution_count": 42,
   "outputs": [
    {
     "name": "stdout",
     "output_type": "stream",
     "text": [
      "['Name' 'pagesNumber' 'PublishMonth' 'PublishDay' 'Publisher'\n",
      " 'CountsOfReview' 'PublishYear' 'Language' 'Authors' 'Rating' 'ISBN'\n",
      " 'Genre']\n"
     ]
    }
   ],
   "source": [
    "print(books.columns.values)"
   ],
   "metadata": {
    "collapsed": false
   }
  },
  {
   "cell_type": "code",
   "execution_count": 43,
   "outputs": [
    {
     "data": {
      "text/plain": "Name                0\npagesNumber         0\nPublishMonth        0\nPublishDay          0\nPublisher           0\nCountsOfReview      0\nPublishYear         0\nLanguage            0\nAuthors             0\nRating              0\nISBN              546\nGenre               0\ndtype: int64"
     },
     "execution_count": 43,
     "metadata": {},
     "output_type": "execute_result"
    }
   ],
   "source": [
    "books.isnull().sum()"
   ],
   "metadata": {
    "collapsed": false
   }
  },
  {
   "cell_type": "code",
   "execution_count": 44,
   "outputs": [
    {
     "data": {
      "text/plain": "Name              57510\npagesNumber        1340\nPublishMonth         12\nPublishDay           12\nPublisher          7521\nCountsOfReview     2163\nPublishYear         105\nLanguage             33\nAuthors           28633\nRating              267\nISBN              57552\nGenre                23\ndtype: int64"
     },
     "execution_count": 44,
     "metadata": {},
     "output_type": "execute_result"
    }
   ],
   "source": [
    "books.nunique()"
   ],
   "metadata": {
    "collapsed": false
   }
  },
  {
   "cell_type": "code",
   "execution_count": 45,
   "outputs": [
    {
     "name": "stdout",
     "output_type": "stream",
     "text": [
      "['J.K. Rowling' 'W. Frederick Zimmerman' 'Douglas Adams' ...\n",
      " 'Jonathan Weiner' 'Archibald Hamilton Rutledge' \"Daniel O'Connor\"]\n",
      "----------------------------------------\n",
      "['Scholastic Inc.' 'Scholastic Inc' 'Scholastic' ... 'Twelve'\n",
      " 'Fantastic Audio' 'Gray & Company Publishers']\n",
      "----------------------------------------\n",
      "['eng' 'fre' 'spa' 'mul' 'grc' 'enm' 'ger' 'jpn' 'ara' 'nl' 'zho' 'lat'\n",
      " 'por' 'srp' 'ita' 'rus' 'msa' 'glg' 'wel' 'swe' 'nor' 'kor' 'tur' 'gla'\n",
      " 'lit' 'per' 'pol' 'gle' 'cat' 'afr' 'ind' 'frs' 'sco']\n",
      "----------------------------------------\n",
      "['History' 'Biographies' 'Science Fiction' 'True Crime' 'Cookbooks'\n",
      " 'Literary Fiction' 'Classics' 'Memoir' 'Short Stories' 'Essays'\n",
      " 'Detective' 'Romance' 'Thrillers' 'Autobiographies'\n",
      " 'Action and Adventure' 'Comic Book' 'Suspense' 'Horror' 'Poetry'\n",
      " 'Fantasy' 'Self-Help' 'Mystery' 'Historical Fiction']\n"
     ]
    }
   ],
   "source": [
    "print(books.Authors.unique())\n",
    "print(\"-\"*40)\n",
    "print(books.Publisher.unique())\n",
    "print(\"-\"*40)\n",
    "print(books.Language.unique())\n",
    "print(\"-\"*40)\n",
    "print(books.Genre.unique())"
   ],
   "metadata": {
    "collapsed": false
   }
  },
  {
   "cell_type": "code",
   "execution_count": 46,
   "outputs": [],
   "source": [
    "Book_genre = pd.DataFrame(data=books.Genre.unique(), columns=['Genre'])\n",
    "Book_lang = pd.DataFrame(data=books.Language.unique(), columns=['Language'])\n",
    "Book_publisher = pd.DataFrame(data=books.Publisher.unique(), columns=['Publisher'])\n",
    "Book_author = pd.DataFrame(data=books.Authors.unique(), columns=['Authors'])\n",
    "\n",
    "columns = [[Book_genre, \"Genre\"], [Book_lang, \"Language\"], [Book_publisher, \"Publisher\"], [Book_author, \"Authors\"]]\n",
    "for col in columns:\n",
    "    for index, string in enumerate(col[0].iloc[:, 0]):\n",
    "        books.loc[books[col[1]] == string, col[1]] = index"
   ],
   "metadata": {
    "collapsed": false
   }
  },
  {
   "cell_type": "code",
   "execution_count": 47,
   "outputs": [
    {
     "data": {
      "text/plain": "                                                    Name  pagesNumber  \\\n0      Harry Potter and the Half-Blood Prince (Harry ...          652   \n1      Harry Potter and the Order of the Phoenix (Har...          870   \n2      Harry Potter and the Sorcerer's Stone (Harry P...          309   \n3      Harry Potter and the Chamber of Secrets (Harry...          352   \n4      Harry Potter and the Prisoner of Azkaban (Harr...          435   \n...                                                  ...          ...   \n58287  The Best American Science and Nature Writing 2000          265   \n58288  The Best American Science and Nature Writing 2002          336   \n58289  Hunting and Home in the Southern Heartland: Th...          263   \n58290             The Best American Science Writing 2004          288   \n58291                 The Best American Sex Writing 2004          336   \n\n       PublishMonth  PublishDay Publisher  CountsOfReview  PublishYear  \\\n0                 3           9         0           28062         2006   \n1                 1           9         0           29770         2004   \n2                 1          11         1           75911         2003   \n3                 1          11         2             244         2003   \n4                 1           5         0           37093         2004   \n...             ...         ...       ...             ...          ...   \n58287             3          10       323               7         2000   \n58288             3          10       323               7         2002   \n58289             1           4       489               0         1992   \n58290             3           9       557               5         2004   \n58291             6          12       423               3         2004   \n\n      Language Authors  Rating        ISBN Genre  \n0            0       0    4.57         NaN     0  \n1            0       0    4.50  0439358078     1  \n2            0       0    4.47         NaN     2  \n3            0       0    4.42  0439554896     0  \n4            0       0    4.57  043965548X     3  \n...        ...     ...     ...         ...   ...  \n58287        0   21727    3.99  0618082956    10  \n58288        0   17385    4.11  0618134786     1  \n58289        0   28631    4.30  0872498220    18  \n58290        0    1762    3.86  0060726407     0  \n58291        0   28632    3.09  1560255986     5  \n\n[58292 rows x 12 columns]",
      "text/html": "<div>\n<style scoped>\n    .dataframe tbody tr th:only-of-type {\n        vertical-align: middle;\n    }\n\n    .dataframe tbody tr th {\n        vertical-align: top;\n    }\n\n    .dataframe thead th {\n        text-align: right;\n    }\n</style>\n<table border=\"1\" class=\"dataframe\">\n  <thead>\n    <tr style=\"text-align: right;\">\n      <th></th>\n      <th>Name</th>\n      <th>pagesNumber</th>\n      <th>PublishMonth</th>\n      <th>PublishDay</th>\n      <th>Publisher</th>\n      <th>CountsOfReview</th>\n      <th>PublishYear</th>\n      <th>Language</th>\n      <th>Authors</th>\n      <th>Rating</th>\n      <th>ISBN</th>\n      <th>Genre</th>\n    </tr>\n  </thead>\n  <tbody>\n    <tr>\n      <th>0</th>\n      <td>Harry Potter and the Half-Blood Prince (Harry ...</td>\n      <td>652</td>\n      <td>3</td>\n      <td>9</td>\n      <td>0</td>\n      <td>28062</td>\n      <td>2006</td>\n      <td>0</td>\n      <td>0</td>\n      <td>4.57</td>\n      <td>NaN</td>\n      <td>0</td>\n    </tr>\n    <tr>\n      <th>1</th>\n      <td>Harry Potter and the Order of the Phoenix (Har...</td>\n      <td>870</td>\n      <td>1</td>\n      <td>9</td>\n      <td>0</td>\n      <td>29770</td>\n      <td>2004</td>\n      <td>0</td>\n      <td>0</td>\n      <td>4.50</td>\n      <td>0439358078</td>\n      <td>1</td>\n    </tr>\n    <tr>\n      <th>2</th>\n      <td>Harry Potter and the Sorcerer's Stone (Harry P...</td>\n      <td>309</td>\n      <td>1</td>\n      <td>11</td>\n      <td>1</td>\n      <td>75911</td>\n      <td>2003</td>\n      <td>0</td>\n      <td>0</td>\n      <td>4.47</td>\n      <td>NaN</td>\n      <td>2</td>\n    </tr>\n    <tr>\n      <th>3</th>\n      <td>Harry Potter and the Chamber of Secrets (Harry...</td>\n      <td>352</td>\n      <td>1</td>\n      <td>11</td>\n      <td>2</td>\n      <td>244</td>\n      <td>2003</td>\n      <td>0</td>\n      <td>0</td>\n      <td>4.42</td>\n      <td>0439554896</td>\n      <td>0</td>\n    </tr>\n    <tr>\n      <th>4</th>\n      <td>Harry Potter and the Prisoner of Azkaban (Harr...</td>\n      <td>435</td>\n      <td>1</td>\n      <td>5</td>\n      <td>0</td>\n      <td>37093</td>\n      <td>2004</td>\n      <td>0</td>\n      <td>0</td>\n      <td>4.57</td>\n      <td>043965548X</td>\n      <td>3</td>\n    </tr>\n    <tr>\n      <th>...</th>\n      <td>...</td>\n      <td>...</td>\n      <td>...</td>\n      <td>...</td>\n      <td>...</td>\n      <td>...</td>\n      <td>...</td>\n      <td>...</td>\n      <td>...</td>\n      <td>...</td>\n      <td>...</td>\n      <td>...</td>\n    </tr>\n    <tr>\n      <th>58287</th>\n      <td>The Best American Science and Nature Writing 2000</td>\n      <td>265</td>\n      <td>3</td>\n      <td>10</td>\n      <td>323</td>\n      <td>7</td>\n      <td>2000</td>\n      <td>0</td>\n      <td>21727</td>\n      <td>3.99</td>\n      <td>0618082956</td>\n      <td>10</td>\n    </tr>\n    <tr>\n      <th>58288</th>\n      <td>The Best American Science and Nature Writing 2002</td>\n      <td>336</td>\n      <td>3</td>\n      <td>10</td>\n      <td>323</td>\n      <td>7</td>\n      <td>2002</td>\n      <td>0</td>\n      <td>17385</td>\n      <td>4.11</td>\n      <td>0618134786</td>\n      <td>1</td>\n    </tr>\n    <tr>\n      <th>58289</th>\n      <td>Hunting and Home in the Southern Heartland: Th...</td>\n      <td>263</td>\n      <td>1</td>\n      <td>4</td>\n      <td>489</td>\n      <td>0</td>\n      <td>1992</td>\n      <td>0</td>\n      <td>28631</td>\n      <td>4.30</td>\n      <td>0872498220</td>\n      <td>18</td>\n    </tr>\n    <tr>\n      <th>58290</th>\n      <td>The Best American Science Writing 2004</td>\n      <td>288</td>\n      <td>3</td>\n      <td>9</td>\n      <td>557</td>\n      <td>5</td>\n      <td>2004</td>\n      <td>0</td>\n      <td>1762</td>\n      <td>3.86</td>\n      <td>0060726407</td>\n      <td>0</td>\n    </tr>\n    <tr>\n      <th>58291</th>\n      <td>The Best American Sex Writing 2004</td>\n      <td>336</td>\n      <td>6</td>\n      <td>12</td>\n      <td>423</td>\n      <td>3</td>\n      <td>2004</td>\n      <td>0</td>\n      <td>28632</td>\n      <td>3.09</td>\n      <td>1560255986</td>\n      <td>5</td>\n    </tr>\n  </tbody>\n</table>\n<p>58292 rows × 12 columns</p>\n</div>"
     },
     "execution_count": 47,
     "metadata": {},
     "output_type": "execute_result"
    }
   ],
   "source": [
    "books"
   ],
   "metadata": {
    "collapsed": false
   }
  },
  {
   "cell_type": "code",
   "execution_count": null,
   "outputs": [],
   "source": [
    "books.to_csv(\"archive/result.csv\", index=False)"
   ],
   "metadata": {
    "collapsed": false
   }
  }
 ],
 "metadata": {
  "kernelspec": {
   "display_name": "Python 3",
   "language": "python",
   "name": "python3"
  },
  "language_info": {
   "codemirror_mode": {
    "name": "ipython",
    "version": 2
   },
   "file_extension": ".py",
   "mimetype": "text/x-python",
   "name": "python",
   "nbconvert_exporter": "python",
   "pygments_lexer": "ipython2",
   "version": "2.7.6"
  }
 },
 "nbformat": 4,
 "nbformat_minor": 0
}
