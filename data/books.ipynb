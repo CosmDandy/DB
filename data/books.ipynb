{
 "cells": [
  {
   "cell_type": "code",
   "execution_count": 3,
   "metadata": {
    "collapsed": true
   },
   "outputs": [],
   "source": [
    "import pandas as pd\n",
    "import random\n",
    "from pathlib import Path\n",
    "import numpy as np"
   ]
  },
  {
   "cell_type": "markdown",
   "source": [
    "# Данные"
   ],
   "metadata": {
    "collapsed": false
   }
  },
  {
   "cell_type": "markdown",
   "source": [
    "## Подготовка данных для таблицы book"
   ],
   "metadata": {
    "collapsed": false
   }
  },
  {
   "cell_type": "code",
   "execution_count": 4,
   "outputs": [],
   "source": [
    "directory = Path(\"input/book\")\n",
    "book = pd.concat([pd.read_csv(f).drop(\n",
    "    ['RatingDist1', 'RatingDist4', 'RatingDistTotal', 'RatingDist2', 'RatingDist5', 'RatingDist3', 'Id'], axis=1) for f\n",
    "    in directory.glob(\"*.csv\")], ignore_index=True)\n",
    "\n",
    "# book = book.drop(['pagesNumber', 'Count of text reviews'], axis=1)\n",
    "book.Language = book.Language.fillna('eng')\n",
    "book.pagesNumber = book.pagesNumber.fillna(random.randint(250, 1500))\n",
    "book.pagesNumber = book.pagesNumber.astype('int')\n",
    "book.Publisher = book.Publisher.fillna('Alpina')\n",
    "book['Genre'] = np.random.choice(\n",
    "    ['Action and Adventure', 'Classics', 'Comic Book', 'Detective', 'Mystery', 'Fantasy', 'Historical Fiction',\n",
    "     'Literary Fiction', 'Horror', 'Romance', 'Science Fiction', 'Short Stories', 'Suspense', 'Thrillers',\n",
    "     'Biographies', 'Autobiographies', 'Cookbooks', 'Essays', 'History', 'Memoir', 'Poetry', 'Self-Help', 'True Crime'],\n",
    "    len(book))\n",
    "book.ISBN = book.ISBN.fillna(random.randint(1000, 10000000))\n",
    "\n",
    "\n",
    "book.loc[book['PublishYear'] > 2023, 'PublishYear'] = random.randint(1900, 2023)\n",
    "book.loc[book['PublishMonth'] > 12, 'PublishMonth'] = random.randint(1, 12)\n",
    "book.loc[book['PublishDay'] > 31, 'PublishDay'] = random.randint(1, 31)\n",
    "book.loc[(book['Language'] == \"en-US\") | (book['Language'] == \"en-GB\") | (book['Language'] == \"en-CA\") | (\n",
    "        book['Language'] == \"--\"), 'Language'] = \"eng\"\n",
    "\n",
    "book = book[:1000]"
   ],
   "metadata": {
    "collapsed": false
   }
  },
  {
   "cell_type": "code",
   "execution_count": 5,
   "outputs": [],
   "source": [
    "# book.isnull().sum()"
   ],
   "metadata": {
    "collapsed": false
   }
  },
  {
   "cell_type": "markdown",
   "source": [
    "## Данные для таблиц\n",
    "- book\n",
    "- book_genre\n",
    "- book_lang\n",
    "- book_publisher\n",
    "- book_author"
   ],
   "metadata": {
    "collapsed": false
   }
  },
  {
   "cell_type": "code",
   "execution_count": 6,
   "outputs": [],
   "source": [
    "Book_genre = pd.DataFrame(data=book.Genre.unique(), columns=['Genre'])\n",
    "Book_lang = pd.DataFrame(data=book.Language.unique(), columns=['Language'])\n",
    "Book_publisher = pd.DataFrame(data=book.Publisher.unique(), columns=['Publisher'])\n",
    "Book_author = pd.DataFrame(data=book.Authors.unique(), columns=['Authors'])\n",
    "\n",
    "columns = [[Book_genre, \"Genre\"], [Book_lang, \"Language\"], [Book_publisher, \"Publisher\"], [Book_author, \"Authors\"]]\n",
    "for col in columns:\n",
    "    for index, string in enumerate(col[0].iloc[:, 0]):\n",
    "        book.loc[book[col[1]] == string, col[1]] = index + 1\n",
    "\n",
    "book.columns = ['book_title', 'book_page_num', 'book_publish_month', 'book_publish_day', 'book_publisher', 'book_num_reviews', 'book_publish_year', 'book_lang', 'book_author', 'book_rating', 'book_isbn', 'book_genre']"
   ],
   "metadata": {
    "collapsed": false
   }
  },
  {
   "cell_type": "code",
   "execution_count": 308,
   "outputs": [],
   "source": [
    "Book_genre.to_csv(\"output/book_genre.csv\", index=False)\n",
    "Book_lang.to_csv(\"output/book_lang.csv\", index=False)\n",
    "Book_publisher.to_csv(\"output/book_publisher.csv\", index=False)\n",
    "Book_author.to_csv(\"output/book_author.csv\", index=False)\n",
    "\n",
    "book.to_csv(\"output/book.csv\", index=False)"
   ],
   "metadata": {
    "collapsed": false
   }
  },
  {
   "cell_type": "code",
   "execution_count": 7,
   "outputs": [
    {
     "data": {
      "text/plain": "                                                 address  postcode  easting  \\\n0      Upper Street, Stratford St Mary, COLCHESTER, E...   CO7 6LW   604748   \n1           Egremont Street, Glemsford, SUDBURY, Suffolk  CO10 7SA   582888   \n2                        7 Market Hill, SUDBURY, Suffolk  CO10 2EA   587356   \n3      Lower Street, Stratford St Mary, COLCHESTER, E...   CO7 6JS   604270   \n4                 Lion Road, Glemsford, SUDBURY, Suffolk  CO10 7RF   582750   \n...                                                  ...       ...      ...   \n51561  Wrexham Lager Social Club, 1 Union Road, Wrexh...  LL13 7SR   333031   \n51562  Wrexham Rail Sports & Social Club, Pentrefelin...  LL13 7LU   333259   \n51563  Wrexham Rugby Club, Bryn Estyn Road, Wrexham, ...  LL13 9TY   335837   \n51564               Y Tai, Railway Road, Brymbo, Wrexham  LL11 5EA   329598   \n51565       Yew Tree Inn, High Street, Gresford, Wrexham  LL12 8RF   334721   \n\n       northing   latitude  longitude  \n0      234405.0   51.97039   0.979328  \n1      247368.0  52.094427   0.668408  \n2      241327.0  52.038683   0.730226  \n3      233920.0  51.966211   0.972091  \n4      248298.0  52.102815   0.666893  \n...         ...        ...        ...  \n51561  350563.0  53.048124  -3.000439  \n51562  350213.0  53.044998  -2.996966  \n51563  351156.0   53.05379  -2.958706  \n51564  353894.0  53.077611   -3.05237  \n51565  354974.0   53.08797  -2.976144  \n\n[51566 rows x 6 columns]",
      "text/html": "<div>\n<style scoped>\n    .dataframe tbody tr th:only-of-type {\n        vertical-align: middle;\n    }\n\n    .dataframe tbody tr th {\n        vertical-align: top;\n    }\n\n    .dataframe thead th {\n        text-align: right;\n    }\n</style>\n<table border=\"1\" class=\"dataframe\">\n  <thead>\n    <tr style=\"text-align: right;\">\n      <th></th>\n      <th>address</th>\n      <th>postcode</th>\n      <th>easting</th>\n      <th>northing</th>\n      <th>latitude</th>\n      <th>longitude</th>\n    </tr>\n  </thead>\n  <tbody>\n    <tr>\n      <th>0</th>\n      <td>Upper Street, Stratford St Mary, COLCHESTER, E...</td>\n      <td>CO7 6LW</td>\n      <td>604748</td>\n      <td>234405.0</td>\n      <td>51.97039</td>\n      <td>0.979328</td>\n    </tr>\n    <tr>\n      <th>1</th>\n      <td>Egremont Street, Glemsford, SUDBURY, Suffolk</td>\n      <td>CO10 7SA</td>\n      <td>582888</td>\n      <td>247368.0</td>\n      <td>52.094427</td>\n      <td>0.668408</td>\n    </tr>\n    <tr>\n      <th>2</th>\n      <td>7 Market Hill, SUDBURY, Suffolk</td>\n      <td>CO10 2EA</td>\n      <td>587356</td>\n      <td>241327.0</td>\n      <td>52.038683</td>\n      <td>0.730226</td>\n    </tr>\n    <tr>\n      <th>3</th>\n      <td>Lower Street, Stratford St Mary, COLCHESTER, E...</td>\n      <td>CO7 6JS</td>\n      <td>604270</td>\n      <td>233920.0</td>\n      <td>51.966211</td>\n      <td>0.972091</td>\n    </tr>\n    <tr>\n      <th>4</th>\n      <td>Lion Road, Glemsford, SUDBURY, Suffolk</td>\n      <td>CO10 7RF</td>\n      <td>582750</td>\n      <td>248298.0</td>\n      <td>52.102815</td>\n      <td>0.666893</td>\n    </tr>\n    <tr>\n      <th>...</th>\n      <td>...</td>\n      <td>...</td>\n      <td>...</td>\n      <td>...</td>\n      <td>...</td>\n      <td>...</td>\n    </tr>\n    <tr>\n      <th>51561</th>\n      <td>Wrexham Lager Social Club, 1 Union Road, Wrexh...</td>\n      <td>LL13 7SR</td>\n      <td>333031</td>\n      <td>350563.0</td>\n      <td>53.048124</td>\n      <td>-3.000439</td>\n    </tr>\n    <tr>\n      <th>51562</th>\n      <td>Wrexham Rail Sports &amp; Social Club, Pentrefelin...</td>\n      <td>LL13 7LU</td>\n      <td>333259</td>\n      <td>350213.0</td>\n      <td>53.044998</td>\n      <td>-2.996966</td>\n    </tr>\n    <tr>\n      <th>51563</th>\n      <td>Wrexham Rugby Club, Bryn Estyn Road, Wrexham, ...</td>\n      <td>LL13 9TY</td>\n      <td>335837</td>\n      <td>351156.0</td>\n      <td>53.05379</td>\n      <td>-2.958706</td>\n    </tr>\n    <tr>\n      <th>51564</th>\n      <td>Y Tai, Railway Road, Brymbo, Wrexham</td>\n      <td>LL11 5EA</td>\n      <td>329598</td>\n      <td>353894.0</td>\n      <td>53.077611</td>\n      <td>-3.05237</td>\n    </tr>\n    <tr>\n      <th>51565</th>\n      <td>Yew Tree Inn, High Street, Gresford, Wrexham</td>\n      <td>LL12 8RF</td>\n      <td>334721</td>\n      <td>354974.0</td>\n      <td>53.08797</td>\n      <td>-2.976144</td>\n    </tr>\n  </tbody>\n</table>\n<p>51566 rows × 6 columns</p>\n</div>"
     },
     "execution_count": 7,
     "metadata": {},
     "output_type": "execute_result"
    }
   ],
   "source": [
    "address = pd.read_csv(\"input/address/open_pubs.csv\").drop([\"fas_id\", \"name\", \"local_authority\"], axis=1)\n",
    "address\n",
    "# book = book.drop(['pagesNumber', 'Count of text reviews'], axis=1)\n",
    "# book.Language = book.Language.fillna('eng')\n",
    "# book.pagesNumber = book.pagesNumber.fillna(random.randint(250, 1500))\n",
    "# book.pagesNumber = book.pagesNumber.astype('int')\n",
    "# book.Publisher = book.Publisher.fillna('Alpina')\n",
    "# book['Genre'] = np.random.choice(\n",
    "#     ['Action and Adventure', 'Classics', 'Comic Book', 'Detective', 'Mystery', 'Fantasy', 'Historical Fiction',\n",
    "#      'Literary Fiction', 'Horror', 'Romance', 'Science Fiction', 'Short Stories', 'Suspense', 'Thrillers',\n",
    "#      'Biographies', 'Autobiographies', 'Cookbooks', 'Essays', 'History', 'Memoir', 'Poetry', 'Self-Help', 'True Crime'],\n",
    "#     len(book))\n",
    "# book.ISBN = book.ISBN.fillna(random.randint(1000, 10000000))\n",
    "#\n",
    "#\n",
    "# book.loc[book['PublishYear'] > 2023, 'PublishYear'] = random.randint(1900, 2023)\n",
    "# book.loc[book['PublishMonth'] > 12, 'PublishMonth'] = random.randint(1, 12)\n",
    "# book.loc[book['PublishDay'] > 31, 'PublishDay'] = random.randint(1, 31)\n",
    "# book.loc[(book['Language'] == \"en-US\") | (book['Language'] == \"en-GB\") | (book['Language'] == \"en-CA\") | (\n",
    "#         book['Language'] == \"--\"), 'Language'] = \"eng\"\n",
    "#\n",
    "# book = book[:1000]"
   ],
   "metadata": {
    "collapsed": false
   }
  },
  {
   "cell_type": "code",
   "execution_count": null,
   "outputs": [],
   "source": [],
   "metadata": {
    "collapsed": false
   }
  }
 ],
 "metadata": {
  "kernelspec": {
   "display_name": "Python 3",
   "language": "python",
   "name": "python3"
  },
  "language_info": {
   "codemirror_mode": {
    "name": "ipython",
    "version": 2
   },
   "file_extension": ".py",
   "mimetype": "text/x-python",
   "name": "python",
   "nbconvert_exporter": "python",
   "pygments_lexer": "ipython2",
   "version": "2.7.6"
  }
 },
 "nbformat": 4,
 "nbformat_minor": 0
}
