{
 "cells": [
  {
   "cell_type": "code",
   "execution_count": 11,
   "metadata": {
    "collapsed": true
   },
   "outputs": [],
   "source": [
    "import pandas as pd\n",
    "import random\n",
    "from pathlib import Path\n",
    "import numpy as np"
   ]
  },
  {
   "cell_type": "code",
   "execution_count": 13,
   "outputs": [],
   "source": [
    "directory = Path(\"archive/\")\n",
    "books = pd.concat([pd.read_csv(f).drop(\n",
    "    ['RatingDist1', 'RatingDist4', 'RatingDistTotal', 'RatingDist2', 'RatingDist5', 'RatingDist3', 'Id'], axis=1) for f in directory.glob(\"*.csv\")], ignore_index=True)\n",
    "\n",
    "books = books.drop(['pagesNumber', 'Count of text reviews'], axis=1)\n",
    "books.Language = books.Language.fillna('eng')\n",
    "books.PagesNumber = books.PagesNumber.fillna(random.randint(250, 1500))\n",
    "books.PagesNumber = books.PagesNumber.astype('int')\n",
    "books.Description = books.Description.fillna('No Description')\n",
    "books.Publisher = books.Publisher.fillna('Alpina')\n",
    "books['Genre'] = np.random.choice(\n",
    "    ['Action and Adventure', 'Classics', 'Comic Book', 'Detective', 'Mystery', 'Fantasy', 'Historical Fiction',\n",
    "     'Literary Fiction', 'Horror', 'Romance', 'Science Fiction', 'Short Stories', 'Suspense', 'Thrillers',\n",
    "     'Biographies', 'Autobiographies', 'Cookbooks', 'Essays', 'History', 'Memoir', 'Poetry', 'Self-Help', 'True Crime'],\n",
    "    len(books))\n",
    "\n",
    "books.loc[books['PublishYear'] > 2023, 'PublishYear'] = random.randint(1900, 2023)\n",
    "books.loc[books['PublishMonth'] > 12, 'PublishMonth'] = random.randint(1, 12)\n",
    "books.loc[books['PublishDay'] > 31, 'PublishDay'] = random.randint(1, 31)\n",
    "books.loc[(books['Language'] == \"en-US\") | (books['Language'] == \"en-GB\") | (books['Language'] == \"en-CA\") | (books['Language'] == \"--\"), 'Language'] = \"eng\"\n",
    "\n",
    "# books.to_csv(\"archive/result.csv\", index=False)"
   ],
   "metadata": {
    "collapsed": false
   }
  },
  {
   "cell_type": "code",
   "execution_count": 14,
   "outputs": [
    {
     "name": "stdout",
     "output_type": "stream",
     "text": [
      "['Name' 'Authors' 'ISBN' 'Rating' 'PublishYear' 'PublishMonth'\n",
      " 'PublishDay' 'Publisher' 'CountsOfReview' 'Language' 'PagesNumber'\n",
      " 'Description' 'Genre']\n"
     ]
    }
   ],
   "source": [
    "print(books.columns.values)"
   ],
   "metadata": {
    "collapsed": false
   }
  },
  {
   "cell_type": "code",
   "execution_count": 15,
   "outputs": [
    {
     "data": {
      "text/plain": "Name                 0\nAuthors              0\nISBN              5923\nRating               0\nPublishYear          0\nPublishMonth         0\nPublishDay           0\nPublisher            0\nCountsOfReview       0\nLanguage             0\nPagesNumber          0\nDescription          0\nGenre                0\ndtype: int64"
     },
     "execution_count": 15,
     "metadata": {},
     "output_type": "execute_result"
    }
   ],
   "source": [
    "books.isnull().sum()"
   ],
   "metadata": {
    "collapsed": false
   }
  },
  {
   "cell_type": "code",
   "execution_count": 16,
   "outputs": [
    {
     "data": {
      "text/plain": "Name              1636235\nAuthors            675289\nISBN              1844192\nRating                338\nPublishYear           182\nPublishMonth           12\nPublishDay             31\nPublisher           79423\nCountsOfReview       2832\nLanguage              120\nPagesNumber          2741\nDescription       1083698\nGenre                  23\ndtype: int64"
     },
     "execution_count": 16,
     "metadata": {},
     "output_type": "execute_result"
    }
   ],
   "source": [
    "books.nunique()"
   ],
   "metadata": {
    "collapsed": false
   }
  },
  {
   "cell_type": "code",
   "execution_count": 24,
   "outputs": [
    {
     "name": "stdout",
     "output_type": "stream",
     "text": [
      "['Christopher Ailsby' 'Daniel Charles Gerould' 'Saviana Stănescu' ...\n",
      " 'David N. DeJong' 'Chetan Dave' 'Yasuhisa Nakamura']\n",
      "----------------------------------------\n",
      "[0 1 2 ... 'Scholatic' 'Fruitbearer Publishing LLC' 'Channel Four Books']\n",
      "----------------------------------------\n",
      "[0 1 2 3 4 5 6 7 8 9 10 11 12 13 14 15 16 17 18 19 20 21 22 23 24 25 26 27\n",
      " 28 29 30 31 32 33 34 35 36 37 38 39 40 41 42 43 44 45 46 47 48 49 50 51\n",
      " 52 53 54 55 56 57 58 59 60 61 62 63 64 65 66 67 68 69 70 71 72 73 74 75\n",
      " 76 77 78 79 80 81 82 83 84 85 86 87 88 89 90 91 92 93 94 95 96 97 98 99\n",
      " 100 101 102 103 104 105 106 107 108 109 110 111 112 113 114 115 116 117\n",
      " 118 119]\n",
      "----------------------------------------\n",
      "[0 1 2 3 4 5 6 7 8 9 10 11 12 13 14 15 16 17 18 19 20 21 22]\n"
     ]
    }
   ],
   "source": [
    "print(books.Authors.unique())\n",
    "print(\"-\"*40)\n",
    "print(books.Publisher.unique())\n",
    "print(\"-\"*40)\n",
    "print(books.Language.unique())\n",
    "print(\"-\"*40)\n",
    "print(books.Genre.unique())"
   ],
   "metadata": {
    "collapsed": false
   }
  },
  {
   "cell_type": "code",
   "execution_count": 22,
   "outputs": [
    {
     "ename": "KeyboardInterrupt",
     "evalue": "",
     "output_type": "error",
     "traceback": [
      "\u001B[0;31m---------------------------------------------------------------------------\u001B[0m",
      "\u001B[0;31mKeyboardInterrupt\u001B[0m                         Traceback (most recent call last)",
      "Cell \u001B[0;32mIn[22], line 9\u001B[0m\n\u001B[1;32m      7\u001B[0m \u001B[38;5;28;01mfor\u001B[39;00m col \u001B[38;5;129;01min\u001B[39;00m columns:\n\u001B[1;32m      8\u001B[0m     \u001B[38;5;28;01mfor\u001B[39;00m index, string \u001B[38;5;129;01min\u001B[39;00m \u001B[38;5;28menumerate\u001B[39m(col[\u001B[38;5;241m0\u001B[39m]\u001B[38;5;241m.\u001B[39miloc[:, \u001B[38;5;241m0\u001B[39m]):\n\u001B[0;32m----> 9\u001B[0m         books\u001B[38;5;241m.\u001B[39mloc[\u001B[43mbooks\u001B[49m\u001B[43m[\u001B[49m\u001B[43mcol\u001B[49m\u001B[43m[\u001B[49m\u001B[38;5;241;43m1\u001B[39;49m\u001B[43m]\u001B[49m\u001B[43m]\u001B[49m\u001B[43m \u001B[49m\u001B[38;5;241;43m==\u001B[39;49m\u001B[43m \u001B[49m\u001B[43mstring\u001B[49m, col[\u001B[38;5;241m1\u001B[39m]] \u001B[38;5;241m=\u001B[39m index\n",
      "File \u001B[0;32m~/GitHub/DB/web/venv/lib/python3.11/site-packages/pandas/core/ops/common.py:72\u001B[0m, in \u001B[0;36m_unpack_zerodim_and_defer.<locals>.new_method\u001B[0;34m(self, other)\u001B[0m\n\u001B[1;32m     68\u001B[0m             \u001B[38;5;28;01mreturn\u001B[39;00m \u001B[38;5;28mNotImplemented\u001B[39m\n\u001B[1;32m     70\u001B[0m other \u001B[38;5;241m=\u001B[39m item_from_zerodim(other)\n\u001B[0;32m---> 72\u001B[0m \u001B[38;5;28;01mreturn\u001B[39;00m \u001B[43mmethod\u001B[49m\u001B[43m(\u001B[49m\u001B[38;5;28;43mself\u001B[39;49m\u001B[43m,\u001B[49m\u001B[43m \u001B[49m\u001B[43mother\u001B[49m\u001B[43m)\u001B[49m\n",
      "File \u001B[0;32m~/GitHub/DB/web/venv/lib/python3.11/site-packages/pandas/core/arraylike.py:42\u001B[0m, in \u001B[0;36mOpsMixin.__eq__\u001B[0;34m(self, other)\u001B[0m\n\u001B[1;32m     40\u001B[0m \u001B[38;5;129m@unpack_zerodim_and_defer\u001B[39m(\u001B[38;5;124m\"\u001B[39m\u001B[38;5;124m__eq__\u001B[39m\u001B[38;5;124m\"\u001B[39m)\n\u001B[1;32m     41\u001B[0m \u001B[38;5;28;01mdef\u001B[39;00m \u001B[38;5;21m__eq__\u001B[39m(\u001B[38;5;28mself\u001B[39m, other):\n\u001B[0;32m---> 42\u001B[0m     \u001B[38;5;28;01mreturn\u001B[39;00m \u001B[38;5;28;43mself\u001B[39;49m\u001B[38;5;241;43m.\u001B[39;49m\u001B[43m_cmp_method\u001B[49m\u001B[43m(\u001B[49m\u001B[43mother\u001B[49m\u001B[43m,\u001B[49m\u001B[43m \u001B[49m\u001B[43moperator\u001B[49m\u001B[38;5;241;43m.\u001B[39;49m\u001B[43meq\u001B[49m\u001B[43m)\u001B[49m\n",
      "File \u001B[0;32m~/GitHub/DB/web/venv/lib/python3.11/site-packages/pandas/core/series.py:6243\u001B[0m, in \u001B[0;36mSeries._cmp_method\u001B[0;34m(self, other, op)\u001B[0m\n\u001B[1;32m   6240\u001B[0m rvalues \u001B[38;5;241m=\u001B[39m extract_array(other, extract_numpy\u001B[38;5;241m=\u001B[39m\u001B[38;5;28;01mTrue\u001B[39;00m, extract_range\u001B[38;5;241m=\u001B[39m\u001B[38;5;28;01mTrue\u001B[39;00m)\n\u001B[1;32m   6242\u001B[0m \u001B[38;5;28;01mwith\u001B[39;00m np\u001B[38;5;241m.\u001B[39merrstate(\u001B[38;5;28mall\u001B[39m\u001B[38;5;241m=\u001B[39m\u001B[38;5;124m\"\u001B[39m\u001B[38;5;124mignore\u001B[39m\u001B[38;5;124m\"\u001B[39m):\n\u001B[0;32m-> 6243\u001B[0m     res_values \u001B[38;5;241m=\u001B[39m \u001B[43mops\u001B[49m\u001B[38;5;241;43m.\u001B[39;49m\u001B[43mcomparison_op\u001B[49m\u001B[43m(\u001B[49m\u001B[43mlvalues\u001B[49m\u001B[43m,\u001B[49m\u001B[43m \u001B[49m\u001B[43mrvalues\u001B[49m\u001B[43m,\u001B[49m\u001B[43m \u001B[49m\u001B[43mop\u001B[49m\u001B[43m)\u001B[49m\n\u001B[1;32m   6245\u001B[0m \u001B[38;5;28;01mreturn\u001B[39;00m \u001B[38;5;28mself\u001B[39m\u001B[38;5;241m.\u001B[39m_construct_result(res_values, name\u001B[38;5;241m=\u001B[39mres_name)\n",
      "File \u001B[0;32m~/GitHub/DB/web/venv/lib/python3.11/site-packages/pandas/core/ops/array_ops.py:287\u001B[0m, in \u001B[0;36mcomparison_op\u001B[0;34m(left, right, op)\u001B[0m\n\u001B[1;32m    284\u001B[0m     \u001B[38;5;28;01mreturn\u001B[39;00m invalid_comparison(lvalues, rvalues, op)\n\u001B[1;32m    286\u001B[0m \u001B[38;5;28;01melif\u001B[39;00m is_object_dtype(lvalues\u001B[38;5;241m.\u001B[39mdtype) \u001B[38;5;129;01mor\u001B[39;00m \u001B[38;5;28misinstance\u001B[39m(rvalues, \u001B[38;5;28mstr\u001B[39m):\n\u001B[0;32m--> 287\u001B[0m     res_values \u001B[38;5;241m=\u001B[39m \u001B[43mcomp_method_OBJECT_ARRAY\u001B[49m\u001B[43m(\u001B[49m\u001B[43mop\u001B[49m\u001B[43m,\u001B[49m\u001B[43m \u001B[49m\u001B[43mlvalues\u001B[49m\u001B[43m,\u001B[49m\u001B[43m \u001B[49m\u001B[43mrvalues\u001B[49m\u001B[43m)\u001B[49m\n\u001B[1;32m    289\u001B[0m \u001B[38;5;28;01melse\u001B[39;00m:\n\u001B[1;32m    290\u001B[0m     res_values \u001B[38;5;241m=\u001B[39m _na_arithmetic_op(lvalues, rvalues, op, is_cmp\u001B[38;5;241m=\u001B[39m\u001B[38;5;28;01mTrue\u001B[39;00m)\n",
      "File \u001B[0;32m~/GitHub/DB/web/venv/lib/python3.11/site-packages/pandas/core/ops/array_ops.py:75\u001B[0m, in \u001B[0;36mcomp_method_OBJECT_ARRAY\u001B[0;34m(op, x, y)\u001B[0m\n\u001B[1;32m     73\u001B[0m     result \u001B[38;5;241m=\u001B[39m libops\u001B[38;5;241m.\u001B[39mvec_compare(x\u001B[38;5;241m.\u001B[39mravel(), y\u001B[38;5;241m.\u001B[39mravel(), op)\n\u001B[1;32m     74\u001B[0m \u001B[38;5;28;01melse\u001B[39;00m:\n\u001B[0;32m---> 75\u001B[0m     result \u001B[38;5;241m=\u001B[39m \u001B[43mlibops\u001B[49m\u001B[38;5;241;43m.\u001B[39;49m\u001B[43mscalar_compare\u001B[49m\u001B[43m(\u001B[49m\u001B[43mx\u001B[49m\u001B[38;5;241;43m.\u001B[39;49m\u001B[43mravel\u001B[49m\u001B[43m(\u001B[49m\u001B[43m)\u001B[49m\u001B[43m,\u001B[49m\u001B[43m \u001B[49m\u001B[43my\u001B[49m\u001B[43m,\u001B[49m\u001B[43m \u001B[49m\u001B[43mop\u001B[49m\u001B[43m)\u001B[49m\n\u001B[1;32m     76\u001B[0m \u001B[38;5;28;01mreturn\u001B[39;00m result\u001B[38;5;241m.\u001B[39mreshape(x\u001B[38;5;241m.\u001B[39mshape)\n",
      "\u001B[0;31mKeyboardInterrupt\u001B[0m: "
     ]
    }
   ],
   "source": [
    "Book_genre = pd.DataFrame(data=books.Genre.unique(), columns=['Genre'])\n",
    "Book_lang = pd.DataFrame(data=books.Language.unique(), columns=['Language'])\n",
    "Book_publisher = pd.DataFrame(data=books.Publisher.unique(), columns=['Publisher'])\n",
    "Book_author = pd.DataFrame(data=books.Authors.unique(), columns=['Authors'])\n",
    "\n",
    "columns = [[Book_publisher, \"Publisher\"]]\n",
    "for col in columns:\n",
    "    for index, string in enumerate(col[0].iloc[:, 0]):\n",
    "        books.loc[books[col[1]] == string, col[1]] = index"
   ],
   "metadata": {
    "collapsed": false
   }
  },
  {
   "cell_type": "code",
   "execution_count": 23,
   "outputs": [
    {
     "data": {
      "text/plain": "                                                      Name  \\\n0                                               Barbarossa   \n1        Collector's Guide to German World War II: Comb...   \n2                                     Images of Barbarossa   \n3              Romania After 2000: Five New Romanian Plays   \n4                 Global Foreigners: An Anthology of Plays   \n...                                                    ...   \n1850305         Irish Folk and Fairy Tales Omnibus Edition   \n1850306              Robin Hood: The Shaping of the Legend   \n1850307  International Business: Competing in the Globa...   \n1850308                                 Competing on Value   \n1850309  Fantastic Antone Grows Up: Adolescents and Adu...   \n\n                        Authors        ISBN  Rating  PublishYear  \\\n0            Christopher Ailsby  1840138009    3.00         2007   \n1            Christopher Ailsby  0781802253    0.00         1994   \n2            Christopher Ailsby  0711028257    3.50         2001   \n3        Daniel Charles Gerould  0595436560    4.00         2007   \n4              Saviana Stănescu  1905422423    4.60         2006   \n...                         ...         ...     ...          ...   \n1850305           Michael Scott  0751508861    4.19         1989   \n1850306      Jeffrey L. Singman  0313301018    3.00         1998   \n1850307       Charles W.L. Hill  0073102555    3.73         2005   \n1850308              Mack Hanan  0814450369    3.50         1991   \n1850309        Judith Kleinfeld  1889963119    4.00         2000   \n\n         PublishMonth  PublishDay Publisher  CountsOfReview Language  \\\n0                   4           1         0               0        0   \n1                   7           1         1               0        0   \n2                   1          25         2               0        0   \n3                   9           1         3               0        0   \n4                  12           7         4               0        0   \n...               ...         ...       ...             ...      ...   \n1850305            12           8       774              10        0   \n1850306            12           7       617               0        0   \n1850307             1          12      1214               8        0   \n1850308            12           4       737               1        0   \n1850309             1           1      5712               4        0   \n\n         PagesNumber                                        Description Genre  \n0                192  On 22 June 1941, Adolf Hitler launched Operati...     0  \n1                160                                     No Description     1  \n2                256  On 22 June 1941, Adolf Hitler launched Operati...     0  \n3                226  The first anthology of new Romanian Drama publ...     2  \n4                320  In Waxing West, Daniella, newly arrived in the...     3  \n...              ...                                                ...   ...  \n1850305          446  Here, collected in one volume, are tales and l...     2  \n1850306          446  Among the narrative traditions of the Middle A...     5  \n1850307          446                                     No Description     5  \n1850308          446  Presents a new approach to selling that emphas...    13  \n1850309          446  <i>Fantastic Antone Grows Up</i> is a field gu...    12  \n\n[1850310 rows x 13 columns]",
      "text/html": "<div>\n<style scoped>\n    .dataframe tbody tr th:only-of-type {\n        vertical-align: middle;\n    }\n\n    .dataframe tbody tr th {\n        vertical-align: top;\n    }\n\n    .dataframe thead th {\n        text-align: right;\n    }\n</style>\n<table border=\"1\" class=\"dataframe\">\n  <thead>\n    <tr style=\"text-align: right;\">\n      <th></th>\n      <th>Name</th>\n      <th>Authors</th>\n      <th>ISBN</th>\n      <th>Rating</th>\n      <th>PublishYear</th>\n      <th>PublishMonth</th>\n      <th>PublishDay</th>\n      <th>Publisher</th>\n      <th>CountsOfReview</th>\n      <th>Language</th>\n      <th>PagesNumber</th>\n      <th>Description</th>\n      <th>Genre</th>\n    </tr>\n  </thead>\n  <tbody>\n    <tr>\n      <th>0</th>\n      <td>Barbarossa</td>\n      <td>Christopher Ailsby</td>\n      <td>1840138009</td>\n      <td>3.00</td>\n      <td>2007</td>\n      <td>4</td>\n      <td>1</td>\n      <td>0</td>\n      <td>0</td>\n      <td>0</td>\n      <td>192</td>\n      <td>On 22 June 1941, Adolf Hitler launched Operati...</td>\n      <td>0</td>\n    </tr>\n    <tr>\n      <th>1</th>\n      <td>Collector's Guide to German World War II: Comb...</td>\n      <td>Christopher Ailsby</td>\n      <td>0781802253</td>\n      <td>0.00</td>\n      <td>1994</td>\n      <td>7</td>\n      <td>1</td>\n      <td>1</td>\n      <td>0</td>\n      <td>0</td>\n      <td>160</td>\n      <td>No Description</td>\n      <td>1</td>\n    </tr>\n    <tr>\n      <th>2</th>\n      <td>Images of Barbarossa</td>\n      <td>Christopher Ailsby</td>\n      <td>0711028257</td>\n      <td>3.50</td>\n      <td>2001</td>\n      <td>1</td>\n      <td>25</td>\n      <td>2</td>\n      <td>0</td>\n      <td>0</td>\n      <td>256</td>\n      <td>On 22 June 1941, Adolf Hitler launched Operati...</td>\n      <td>0</td>\n    </tr>\n    <tr>\n      <th>3</th>\n      <td>Romania After 2000: Five New Romanian Plays</td>\n      <td>Daniel Charles Gerould</td>\n      <td>0595436560</td>\n      <td>4.00</td>\n      <td>2007</td>\n      <td>9</td>\n      <td>1</td>\n      <td>3</td>\n      <td>0</td>\n      <td>0</td>\n      <td>226</td>\n      <td>The first anthology of new Romanian Drama publ...</td>\n      <td>2</td>\n    </tr>\n    <tr>\n      <th>4</th>\n      <td>Global Foreigners: An Anthology of Plays</td>\n      <td>Saviana Stănescu</td>\n      <td>1905422423</td>\n      <td>4.60</td>\n      <td>2006</td>\n      <td>12</td>\n      <td>7</td>\n      <td>4</td>\n      <td>0</td>\n      <td>0</td>\n      <td>320</td>\n      <td>In Waxing West, Daniella, newly arrived in the...</td>\n      <td>3</td>\n    </tr>\n    <tr>\n      <th>...</th>\n      <td>...</td>\n      <td>...</td>\n      <td>...</td>\n      <td>...</td>\n      <td>...</td>\n      <td>...</td>\n      <td>...</td>\n      <td>...</td>\n      <td>...</td>\n      <td>...</td>\n      <td>...</td>\n      <td>...</td>\n      <td>...</td>\n    </tr>\n    <tr>\n      <th>1850305</th>\n      <td>Irish Folk and Fairy Tales Omnibus Edition</td>\n      <td>Michael Scott</td>\n      <td>0751508861</td>\n      <td>4.19</td>\n      <td>1989</td>\n      <td>12</td>\n      <td>8</td>\n      <td>774</td>\n      <td>10</td>\n      <td>0</td>\n      <td>446</td>\n      <td>Here, collected in one volume, are tales and l...</td>\n      <td>2</td>\n    </tr>\n    <tr>\n      <th>1850306</th>\n      <td>Robin Hood: The Shaping of the Legend</td>\n      <td>Jeffrey L. Singman</td>\n      <td>0313301018</td>\n      <td>3.00</td>\n      <td>1998</td>\n      <td>12</td>\n      <td>7</td>\n      <td>617</td>\n      <td>0</td>\n      <td>0</td>\n      <td>446</td>\n      <td>Among the narrative traditions of the Middle A...</td>\n      <td>5</td>\n    </tr>\n    <tr>\n      <th>1850307</th>\n      <td>International Business: Competing in the Globa...</td>\n      <td>Charles W.L. Hill</td>\n      <td>0073102555</td>\n      <td>3.73</td>\n      <td>2005</td>\n      <td>1</td>\n      <td>12</td>\n      <td>1214</td>\n      <td>8</td>\n      <td>0</td>\n      <td>446</td>\n      <td>No Description</td>\n      <td>5</td>\n    </tr>\n    <tr>\n      <th>1850308</th>\n      <td>Competing on Value</td>\n      <td>Mack Hanan</td>\n      <td>0814450369</td>\n      <td>3.50</td>\n      <td>1991</td>\n      <td>12</td>\n      <td>4</td>\n      <td>737</td>\n      <td>1</td>\n      <td>0</td>\n      <td>446</td>\n      <td>Presents a new approach to selling that emphas...</td>\n      <td>13</td>\n    </tr>\n    <tr>\n      <th>1850309</th>\n      <td>Fantastic Antone Grows Up: Adolescents and Adu...</td>\n      <td>Judith Kleinfeld</td>\n      <td>1889963119</td>\n      <td>4.00</td>\n      <td>2000</td>\n      <td>1</td>\n      <td>1</td>\n      <td>5712</td>\n      <td>4</td>\n      <td>0</td>\n      <td>446</td>\n      <td>&lt;i&gt;Fantastic Antone Grows Up&lt;/i&gt; is a field gu...</td>\n      <td>12</td>\n    </tr>\n  </tbody>\n</table>\n<p>1850310 rows × 13 columns</p>\n</div>"
     },
     "execution_count": 23,
     "metadata": {},
     "output_type": "execute_result"
    }
   ],
   "source": [
    "books"
   ],
   "metadata": {
    "collapsed": false
   }
  },
  {
   "cell_type": "code",
   "execution_count": null,
   "outputs": [],
   "source": [],
   "metadata": {
    "collapsed": false
   }
  }
 ],
 "metadata": {
  "kernelspec": {
   "display_name": "Python 3",
   "language": "python",
   "name": "python3"
  },
  "language_info": {
   "codemirror_mode": {
    "name": "ipython",
    "version": 2
   },
   "file_extension": ".py",
   "mimetype": "text/x-python",
   "name": "python",
   "nbconvert_exporter": "python",
   "pygments_lexer": "ipython2",
   "version": "2.7.6"
  }
 },
 "nbformat": 4,
 "nbformat_minor": 0
}
