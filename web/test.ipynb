{
 "cells": [
  {
   "cell_type": "code",
   "execution_count": 12,
   "outputs": [],
   "source": [
    "import psycopg2\n",
    "import pandas as pd\n",
    "\n",
    "conn = psycopg2.connect(\n",
    "    host=\"localhost\",\n",
    "    port=\"5432\",\n",
    "    database=\"library\",\n",
    "    user='admin',\n",
    "    password='admin')\n",
    "cur = conn.cursor()"
   ],
   "metadata": {
    "collapsed": false
   }
  },
  {
   "cell_type": "code",
   "execution_count": 13,
   "metadata": {
    "collapsed": true
   },
   "outputs": [],
   "source": [
    "cur.execute(\n",
    "        \"SELECT * FROM lib_schema.book JOIN lib_schema.book_author ba on book.book_author = ba.author_id JOIN lib_schema.book_genre bg on book.book_genre = bg.genre_id JOIN lib_schema.book_lang bl on book.book_lang = bl.lang_id JOIN lib_schema.book_publisher bp on book.book_publisher = bp.publisher_id;\")\n",
    "book_list = pd.DataFrame(cur.fetchall()).drop([0, 2, 3, 4, 5, 12, 14, 15, 17, 19], axis=1)"
   ]
  },
  {
   "cell_type": "code",
   "execution_count": 14,
   "outputs": [
    {
     "data": {
      "text/plain": "                                                     1     6   7   8    9   \\\n0     Harry Potter and the Half-Blood Prince (Harry ...  2006   8   9  652   \n1     Harry Potter and the Order of the Phoenix (Har...  2004   1   9  870   \n2     Harry Potter and the Chamber of Secrets (Harry...  2003   1  11  352   \n3     Harry Potter and the Prisoner of Azkaban (Harr...  2004   1   5  435   \n4     Harry Potter and the Goblet of Fire (Harry Pot...  2002   8   9  734   \n...                                                 ...   ...  ..  ..  ...   \n9995         Indians & Soldiers and Ranchers & Rustlers  1999   1  12  452   \n9996   A Guide for Using the Outsiders in the Classroom  1992   1   6   48   \n9997  A Guide for Using Brown Bear, Brown Bear, What...  2004   1  11   48   \n9998      Activities for Any Literature Unit Grades 3-5  1996   1  11   80   \n9999          Plants (Hands-On Minds-On Science Series)  1994   1   7   96   \n\n        10     11                         13                    16   18  \\\n0     4.57  28062               J.K. Rowling             Cookbooks  eng   \n1     4.50  29770               J.K. Rowling    Historical Fiction  eng   \n2     4.42    244               J.K. Rowling             Cookbooks  eng   \n3     4.57  37093               J.K. Rowling  Action and Adventure  eng   \n4     4.56  31978               J.K. Rowling       Autobiographies  eng   \n...    ...    ...                        ...                   ...  ...   \n9995  5.00      1              Luther Butler            True Crime  eng   \n9996  5.00      0            John Carratello       Science Fiction  eng   \n9997  5.00      0                 Mary Bolte            Comic Book  eng   \n9998  4.00      0                Patsy Carey                Essays  eng   \n9999  0.00      0  Teacher Created Materials              Classics  eng   \n\n                             20  \n0               Scholastic Inc.  \n1               Scholastic Inc.  \n2                    Scholastic  \n3               Scholastic Inc.  \n4                    Scholastic  \n...                         ...  \n9995                  iUniverse  \n9996  Teacher Created Resources  \n9997  Teacher Created Resources  \n9998  Teacher Created Resources  \n9999  Teacher Created Resources  \n\n[10000 rows x 11 columns]",
      "text/html": "<div>\n<style scoped>\n    .dataframe tbody tr th:only-of-type {\n        vertical-align: middle;\n    }\n\n    .dataframe tbody tr th {\n        vertical-align: top;\n    }\n\n    .dataframe thead th {\n        text-align: right;\n    }\n</style>\n<table border=\"1\" class=\"dataframe\">\n  <thead>\n    <tr style=\"text-align: right;\">\n      <th></th>\n      <th>1</th>\n      <th>6</th>\n      <th>7</th>\n      <th>8</th>\n      <th>9</th>\n      <th>10</th>\n      <th>11</th>\n      <th>13</th>\n      <th>16</th>\n      <th>18</th>\n      <th>20</th>\n    </tr>\n  </thead>\n  <tbody>\n    <tr>\n      <th>0</th>\n      <td>Harry Potter and the Half-Blood Prince (Harry ...</td>\n      <td>2006</td>\n      <td>8</td>\n      <td>9</td>\n      <td>652</td>\n      <td>4.57</td>\n      <td>28062</td>\n      <td>J.K. Rowling</td>\n      <td>Cookbooks</td>\n      <td>eng</td>\n      <td>Scholastic Inc.</td>\n    </tr>\n    <tr>\n      <th>1</th>\n      <td>Harry Potter and the Order of the Phoenix (Har...</td>\n      <td>2004</td>\n      <td>1</td>\n      <td>9</td>\n      <td>870</td>\n      <td>4.50</td>\n      <td>29770</td>\n      <td>J.K. Rowling</td>\n      <td>Historical Fiction</td>\n      <td>eng</td>\n      <td>Scholastic Inc.</td>\n    </tr>\n    <tr>\n      <th>2</th>\n      <td>Harry Potter and the Chamber of Secrets (Harry...</td>\n      <td>2003</td>\n      <td>1</td>\n      <td>11</td>\n      <td>352</td>\n      <td>4.42</td>\n      <td>244</td>\n      <td>J.K. Rowling</td>\n      <td>Cookbooks</td>\n      <td>eng</td>\n      <td>Scholastic</td>\n    </tr>\n    <tr>\n      <th>3</th>\n      <td>Harry Potter and the Prisoner of Azkaban (Harr...</td>\n      <td>2004</td>\n      <td>1</td>\n      <td>5</td>\n      <td>435</td>\n      <td>4.57</td>\n      <td>37093</td>\n      <td>J.K. Rowling</td>\n      <td>Action and Adventure</td>\n      <td>eng</td>\n      <td>Scholastic Inc.</td>\n    </tr>\n    <tr>\n      <th>4</th>\n      <td>Harry Potter and the Goblet of Fire (Harry Pot...</td>\n      <td>2002</td>\n      <td>8</td>\n      <td>9</td>\n      <td>734</td>\n      <td>4.56</td>\n      <td>31978</td>\n      <td>J.K. Rowling</td>\n      <td>Autobiographies</td>\n      <td>eng</td>\n      <td>Scholastic</td>\n    </tr>\n    <tr>\n      <th>...</th>\n      <td>...</td>\n      <td>...</td>\n      <td>...</td>\n      <td>...</td>\n      <td>...</td>\n      <td>...</td>\n      <td>...</td>\n      <td>...</td>\n      <td>...</td>\n      <td>...</td>\n      <td>...</td>\n    </tr>\n    <tr>\n      <th>9995</th>\n      <td>Indians &amp; Soldiers and Ranchers &amp; Rustlers</td>\n      <td>1999</td>\n      <td>1</td>\n      <td>12</td>\n      <td>452</td>\n      <td>5.00</td>\n      <td>1</td>\n      <td>Luther Butler</td>\n      <td>True Crime</td>\n      <td>eng</td>\n      <td>iUniverse</td>\n    </tr>\n    <tr>\n      <th>9996</th>\n      <td>A Guide for Using the Outsiders in the Classroom</td>\n      <td>1992</td>\n      <td>1</td>\n      <td>6</td>\n      <td>48</td>\n      <td>5.00</td>\n      <td>0</td>\n      <td>John Carratello</td>\n      <td>Science Fiction</td>\n      <td>eng</td>\n      <td>Teacher Created Resources</td>\n    </tr>\n    <tr>\n      <th>9997</th>\n      <td>A Guide for Using Brown Bear, Brown Bear, What...</td>\n      <td>2004</td>\n      <td>1</td>\n      <td>11</td>\n      <td>48</td>\n      <td>5.00</td>\n      <td>0</td>\n      <td>Mary Bolte</td>\n      <td>Comic Book</td>\n      <td>eng</td>\n      <td>Teacher Created Resources</td>\n    </tr>\n    <tr>\n      <th>9998</th>\n      <td>Activities for Any Literature Unit Grades 3-5</td>\n      <td>1996</td>\n      <td>1</td>\n      <td>11</td>\n      <td>80</td>\n      <td>4.00</td>\n      <td>0</td>\n      <td>Patsy Carey</td>\n      <td>Essays</td>\n      <td>eng</td>\n      <td>Teacher Created Resources</td>\n    </tr>\n    <tr>\n      <th>9999</th>\n      <td>Plants (Hands-On Minds-On Science Series)</td>\n      <td>1994</td>\n      <td>1</td>\n      <td>7</td>\n      <td>96</td>\n      <td>0.00</td>\n      <td>0</td>\n      <td>Teacher Created Materials</td>\n      <td>Classics</td>\n      <td>eng</td>\n      <td>Teacher Created Resources</td>\n    </tr>\n  </tbody>\n</table>\n<p>10000 rows × 11 columns</p>\n</div>"
     },
     "execution_count": 14,
     "metadata": {},
     "output_type": "execute_result"
    }
   ],
   "source": [
    "book_list"
   ],
   "metadata": {
    "collapsed": false
   }
  },
  {
   "cell_type": "code",
   "execution_count": null,
   "outputs": [],
   "source": [],
   "metadata": {
    "collapsed": false
   }
  }
 ],
 "metadata": {
  "kernelspec": {
   "display_name": "Python 3",
   "language": "python",
   "name": "python3"
  },
  "language_info": {
   "codemirror_mode": {
    "name": "ipython",
    "version": 2
   },
   "file_extension": ".py",
   "mimetype": "text/x-python",
   "name": "python",
   "nbconvert_exporter": "python",
   "pygments_lexer": "ipython2",
   "version": "2.7.6"
  }
 },
 "nbformat": 4,
 "nbformat_minor": 0
}
